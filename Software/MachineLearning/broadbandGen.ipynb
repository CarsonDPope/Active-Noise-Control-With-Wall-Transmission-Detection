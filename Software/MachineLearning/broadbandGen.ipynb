{
 "cells": [
  {
   "cell_type": "code",
   "execution_count": 1,
   "id": "048b44cc-dc9e-449b-a9ef-73c77497f669",
   "metadata": {},
   "outputs": [],
   "source": [
    "import numpy as np\n",
    "import sys\n",
    "import csv\n",
    "\n",
    "# np.set_printoptions(threshold=sys.maxsize)\n"
   ]
  },
  {
   "cell_type": "code",
   "execution_count": 2,
   "id": "a5055634-e9d1-4e89-88bf-c061235ef512",
   "metadata": {},
   "outputs": [],
   "source": [
    "def fftnoise(f):\n",
    "    f = np.array(f, dtype='complex')\n",
    "    Np = (len(f) - 1) // 2\n",
    "    phases = np.random.rand(Np) * 2 * np.pi\n",
    "    phases = np.cos(phases) + 1j * np.sin(phases)\n",
    "    f[1:Np+1] *= phases\n",
    "    f[-1:-1-Np:-1] = np.conj(f[1:Np+1])\n",
    "    return np.fft.ifft(f).real"
   ]
  },
  {
   "cell_type": "code",
   "execution_count": 3,
   "id": "c071cc41-e103-4601-b493-3f5c145d2ebd",
   "metadata": {
    "scrolled": true,
    "tags": []
   },
   "outputs": [],
   "source": [
    "def band_limited_noise(min_freq, max_freq, samples=1024, samplerate=1):\n",
    "    freqs = np.abs(np.fft.fftfreq(samples, 1/samplerate))\n",
    "    f = np.zeros(samples)\n",
    "    idx = np.where(np.logical_and(freqs>=min_freq, freqs<=max_freq))[0]\n",
    "    f[idx] = 1\n",
    "    return fftnoise(f)"
   ]
  },
  {
   "cell_type": "code",
   "execution_count": 12,
   "id": "d3efe3f0-812e-42b7-a6d3-864f5dccfc36",
   "metadata": {
    "scrolled": true,
    "tags": []
   },
   "outputs": [],
   "source": [
    "numSamples = 1200\n",
    "\n",
    "Noise = np.zeros((101,numSamples))\n",
    "\n",
    "SampleIdx = np.zeros(numSamples)\n",
    "\n",
    "lowBand = [0, 300, 700]\n",
    "highBand = [600, 699, 20000]\n",
    "\n",
    "for i in range(3):\n",
    "    for j in range(400):\n",
    "        C1 = band_limited_noise(lowBand[i],highBand[i] , 100, 48000)\n",
    "        C1 = np.int8(C1 * (2**15 - 1))\n",
    "        SampleIdx[j+i*400] = j+i*400\n",
    "        Noise[0][j+i*400] = i\n",
    "        for h in range(100):\n",
    "            Noise[h+1][j+i*400] = C1[h]\n",
    "            \n"
   ]
  },
  {
   "cell_type": "code",
   "execution_count": 13,
   "id": "7ac6ccaf-07a1-4d72-84a9-37b5ec6275be",
   "metadata": {},
   "outputs": [
    {
     "name": "stdout",
     "output_type": "stream",
     "text": [
      "[[   0.    0.    0. ...    2.    2.    2.]\n",
      " [  59.   14.   80. ...   95.   72.  103.]\n",
      " [  84.  -20.  107. ...   -2.  104.  -38.]\n",
      " ...\n",
      " [ -30. -128.   10. ... -105.   33.   92.]\n",
      " [   2.   89.   31. ... -114.  -37.  -93.]\n",
      " [  31.   51.   54. ...   77.  -30.  124.]]\n"
     ]
    }
   ],
   "source": [
    "print(Noise)"
   ]
  },
  {
   "cell_type": "code",
   "execution_count": 14,
   "id": "f5723f13-3085-41de-a80f-380a01b88435",
   "metadata": {},
   "outputs": [],
   "source": [
    "# writing to csv file  \n",
    "with open('CapstoneMachineLearningTrainingInputs.csv', 'w') as csvfile:  \n",
    "    # creating a csv writer object  \n",
    "    csvwriter = csv.writer(csvfile)  \n",
    "        \n",
    "    # writing the fields  \n",
    "    csvwriter.writerow(SampleIdx)  \n",
    "        \n",
    "    # writing the data rows  \n",
    "    csvwriter.writerows(Noise)"
   ]
  },
  {
   "cell_type": "code",
   "execution_count": null,
   "id": "33b94be8-b2f5-4824-8b09-87481ce78f70",
   "metadata": {},
   "outputs": [],
   "source": []
  }
 ],
 "metadata": {
  "kernelspec": {
   "display_name": "Python 3 (ipykernel)",
   "language": "python",
   "name": "python3"
  },
  "language_info": {
   "codemirror_mode": {
    "name": "ipython",
    "version": 3
   },
   "file_extension": ".py",
   "mimetype": "text/x-python",
   "name": "python",
   "nbconvert_exporter": "python",
   "pygments_lexer": "ipython3",
   "version": "3.9.6"
  }
 },
 "nbformat": 4,
 "nbformat_minor": 5
}
