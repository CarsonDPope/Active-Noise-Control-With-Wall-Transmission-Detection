{
 "cells": [
  {
   "cell_type": "code",
   "execution_count": 1,
   "id": "048b44cc-dc9e-449b-a9ef-73c77497f669",
   "metadata": {},
   "outputs": [],
   "source": [
    "# Generate Broadband Noise for training\n",
    "# Author: Carson Pope\n",
    "# Last Updated: 11/12/2023\n",
    "\n",
    "# Based on code from StackOverflow further based on Matlab code\n",
    "# https://stackoverflow.com/a/35091295\n",
    "# answered by FrankZalkow, edited by Eric Johnson\n",
    "\n",
    "\n",
    "import numpy as np\n",
    "import sys\n",
    "import csv"
   ]
  },
  {
   "cell_type": "code",
   "execution_count": 2,
   "id": "a5055634-e9d1-4e89-88bf-c061235ef512",
   "metadata": {},
   "outputs": [],
   "source": [
    "def fftnoise(f):\n",
    "    f = np.array(f, dtype='complex')\n",
    "    Np = (len(f) - 1) // 2\n",
    "    phases = np.random.rand(Np) * 2 * np.pi\n",
    "    phases = np.cos(phases) + 1j * np.sin(phases)\n",
    "    f[1:Np+1] *= phases\n",
    "    f[-1:-1-Np:-1] = np.conj(f[1:Np+1])\n",
    "    return np.fft.ifft(f).real"
   ]
  },
  {
   "cell_type": "code",
   "execution_count": 3,
   "id": "c071cc41-e103-4601-b493-3f5c145d2ebd",
   "metadata": {
    "scrolled": true,
    "tags": []
   },
   "outputs": [],
   "source": [
    "def band_limited_noise(min_freq, max_freq, samples=1024, samplerate=1):\n",
    "    freqs = np.abs(np.fft.fftfreq(samples, 1/samplerate))\n",
    "    f = np.zeros(samples)\n",
    "    idx = np.where(np.logical_and(freqs>=min_freq, freqs<=max_freq))[0]\n",
    "    f[idx] = 1\n",
    "    return fftnoise(f)"
   ]
  },
  {
   "cell_type": "code",
   "execution_count": 12,
   "id": "d3efe3f0-812e-42b7-a6d3-864f5dccfc36",
   "metadata": {
    "scrolled": true,
    "tags": []
   },
   "outputs": [],
   "source": [
    "numSamples = 1200\n",
    "\n",
    "Noise = np.zeros((101,numSamples))\n",
    "\n",
    "SampleIdx = np.zeros(numSamples)\n",
    "\n",
    "\n",
    "#Below is where to set the band frequencies\n",
    "#each 'i'th entry into the sample corresponds to an 'i'th bandpass noise\n",
    "# So the first noise generated is from frequencies 0-600 Hz\n",
    "lowBand = [0, 300, 700]\n",
    "highBand = [600, 699, 20000]\n",
    "\n",
    "for i in range(3):\n",
    "    for j in range(400):\n",
    "        C1 = band_limited_noise(lowBand[i],highBand[i] , 100, 48000)\n",
    "        C1 = np.int8(C1 * (2**15 - 1))\n",
    "        SampleIdx[j+i*400] = j+i*400\n",
    "        Noise[0][j+i*400] = i\n",
    "        for h in range(100):\n",
    "            Noise[h+1][j+i*400] = C1[h]\n",
    "            \n"
   ]
  },
  {
   "cell_type": "code",
   "execution_count": 14,
   "id": "f5723f13-3085-41de-a80f-380a01b88435",
   "metadata": {},
   "outputs": [],
   "source": [
    "# writing to csv file  \n",
    "with open('CapstoneMachineLearningTrainingInputs.csv', 'w') as csvfile:  \n",
    "    # creating a csv writer object  \n",
    "    csvwriter = csv.writer(csvfile)  \n",
    "        \n",
    "    # writing the fields  \n",
    "    csvwriter.writerow(SampleIdx)  \n",
    "        \n",
    "    # writing the data rows  \n",
    "    csvwriter.writerows(Noise)"
   ]
  }
 ],
 "metadata": {
  "kernelspec": {
   "display_name": "Python 3 (ipykernel)",
   "language": "python",
   "name": "python3"
  },
  "language_info": {
   "codemirror_mode": {
    "name": "ipython",
    "version": 3
   },
   "file_extension": ".py",
   "mimetype": "text/x-python",
   "name": "python",
   "nbconvert_exporter": "python",
   "pygments_lexer": "ipython3",
   "version": "3.9.6"
  }
 },
 "nbformat": 4,
 "nbformat_minor": 5
}
